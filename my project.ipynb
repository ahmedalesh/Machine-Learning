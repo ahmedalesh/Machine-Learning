{
 "cells": [
  {
   "cell_type": "code",
   "execution_count": 869,
   "metadata": {
    "collapsed": false
   },
   "outputs": [
    {
     "data": {
      "text/html": [
       "<pre>Finished parsing file /Users/ahmedaleshinloye/Documents/Machine learning Project/Titanic/train.csv</pre>"
      ],
      "text/plain": [
       "Finished parsing file /Users/ahmedaleshinloye/Documents/Machine learning Project/Titanic/train.csv"
      ]
     },
     "metadata": {},
     "output_type": "display_data"
    },
    {
     "data": {
      "text/html": [
       "<pre>Parsing completed. Parsed 100 lines in 0.044121 secs.</pre>"
      ],
      "text/plain": [
       "Parsing completed. Parsed 100 lines in 0.044121 secs."
      ]
     },
     "metadata": {},
     "output_type": "display_data"
    },
    {
     "name": "stdout",
     "output_type": "stream",
     "text": [
      "------------------------------------------------------\n",
      "Inferred types from first 100 line(s) of file as \n",
      "column_type_hints=[int,int,int,str,str,float,int,int,str,float,str,str]\n",
      "If parsing fails due to incorrect types, you can correct\n",
      "the inferred type list above and pass it to read_csv in\n",
      "the column_type_hints argument\n",
      "------------------------------------------------------\n"
     ]
    },
    {
     "data": {
      "text/html": [
       "<pre>Finished parsing file /Users/ahmedaleshinloye/Documents/Machine learning Project/Titanic/train.csv</pre>"
      ],
      "text/plain": [
       "Finished parsing file /Users/ahmedaleshinloye/Documents/Machine learning Project/Titanic/train.csv"
      ]
     },
     "metadata": {},
     "output_type": "display_data"
    },
    {
     "data": {
      "text/html": [
       "<pre>Parsing completed. Parsed 891 lines in 0.021332 secs.</pre>"
      ],
      "text/plain": [
       "Parsing completed. Parsed 891 lines in 0.021332 secs."
      ]
     },
     "metadata": {},
     "output_type": "display_data"
    },
    {
     "data": {
      "text/html": [
       "<pre>Finished parsing file /Users/ahmedaleshinloye/Documents/Machine learning Project/Titanic/test.csv</pre>"
      ],
      "text/plain": [
       "Finished parsing file /Users/ahmedaleshinloye/Documents/Machine learning Project/Titanic/test.csv"
      ]
     },
     "metadata": {},
     "output_type": "display_data"
    },
    {
     "data": {
      "text/html": [
       "<pre>Parsing completed. Parsed 100 lines in 0.020557 secs.</pre>"
      ],
      "text/plain": [
       "Parsing completed. Parsed 100 lines in 0.020557 secs."
      ]
     },
     "metadata": {},
     "output_type": "display_data"
    },
    {
     "name": "stdout",
     "output_type": "stream",
     "text": [
      "------------------------------------------------------\n",
      "Inferred types from first 100 line(s) of file as \n",
      "column_type_hints=[int,int,str,str,float,int,int,str,float,str,str]\n",
      "If parsing fails due to incorrect types, you can correct\n",
      "the inferred type list above and pass it to read_csv in\n",
      "the column_type_hints argument\n",
      "------------------------------------------------------\n"
     ]
    },
    {
     "data": {
      "text/html": [
       "<pre>Finished parsing file /Users/ahmedaleshinloye/Documents/Machine learning Project/Titanic/test.csv</pre>"
      ],
      "text/plain": [
       "Finished parsing file /Users/ahmedaleshinloye/Documents/Machine learning Project/Titanic/test.csv"
      ]
     },
     "metadata": {},
     "output_type": "display_data"
    },
    {
     "data": {
      "text/html": [
       "<pre>Parsing completed. Parsed 418 lines in 0.016766 secs.</pre>"
      ],
      "text/plain": [
       "Parsing completed. Parsed 418 lines in 0.016766 secs."
      ]
     },
     "metadata": {},
     "output_type": "display_data"
    },
    {
     "data": {
      "text/html": [
       "<pre>Finished parsing file /Users/ahmedaleshinloye/Documents/Machine learning Project/Titanic/gender_submission.csv</pre>"
      ],
      "text/plain": [
       "Finished parsing file /Users/ahmedaleshinloye/Documents/Machine learning Project/Titanic/gender_submission.csv"
      ]
     },
     "metadata": {},
     "output_type": "display_data"
    },
    {
     "data": {
      "text/html": [
       "<pre>Parsing completed. Parsed 100 lines in 0.016601 secs.</pre>"
      ],
      "text/plain": [
       "Parsing completed. Parsed 100 lines in 0.016601 secs."
      ]
     },
     "metadata": {},
     "output_type": "display_data"
    },
    {
     "name": "stdout",
     "output_type": "stream",
     "text": [
      "------------------------------------------------------\n",
      "Inferred types from first 100 line(s) of file as \n",
      "column_type_hints=[int,int]\n",
      "If parsing fails due to incorrect types, you can correct\n",
      "the inferred type list above and pass it to read_csv in\n",
      "the column_type_hints argument\n",
      "------------------------------------------------------\n"
     ]
    },
    {
     "data": {
      "text/html": [
       "<pre>Finished parsing file /Users/ahmedaleshinloye/Documents/Machine learning Project/Titanic/gender_submission.csv</pre>"
      ],
      "text/plain": [
       "Finished parsing file /Users/ahmedaleshinloye/Documents/Machine learning Project/Titanic/gender_submission.csv"
      ]
     },
     "metadata": {},
     "output_type": "display_data"
    },
    {
     "data": {
      "text/html": [
       "<pre>Parsing completed. Parsed 418 lines in 0.020449 secs.</pre>"
      ],
      "text/plain": [
       "Parsing completed. Parsed 418 lines in 0.020449 secs."
      ]
     },
     "metadata": {},
     "output_type": "display_data"
    }
   ],
   "source": [
    "import numpy as np\n",
    "import graphlab as gl\n",
    "import re\n",
    "\n",
    "train_data = gl.SFrame('train.csv')\n",
    "test_data = gl.SFrame('test.csv')\n",
    "gender_data = gl.SFrame('gender_submission.csv')\n",
    "\n",
    "full_data = (train_data,test_data)"
   ]
  },
  {
   "cell_type": "code",
   "execution_count": 870,
   "metadata": {
    "collapsed": false
   },
   "outputs": [
    {
     "data": {
      "text/html": [
       "<div style=\"max-height:1000px;max-width:1500px;overflow:auto;\"><table frame=\"box\" rules=\"cols\">\n",
       "    <tr>\n",
       "        <th style=\"padding-left: 1em; padding-right: 1em; text-align: center\">Pclass</th>\n",
       "        <th style=\"padding-left: 1em; padding-right: 1em; text-align: center\">count</th>\n",
       "    </tr>\n",
       "    <tr>\n",
       "        <td style=\"padding-left: 1em; padding-right: 1em; text-align: center; vertical-align: top\">2</td>\n",
       "        <td style=\"padding-left: 1em; padding-right: 1em; text-align: center; vertical-align: top\">0.472826086957</td>\n",
       "    </tr>\n",
       "    <tr>\n",
       "        <td style=\"padding-left: 1em; padding-right: 1em; text-align: center; vertical-align: top\">3</td>\n",
       "        <td style=\"padding-left: 1em; padding-right: 1em; text-align: center; vertical-align: top\">0.242362525458</td>\n",
       "    </tr>\n",
       "    <tr>\n",
       "        <td style=\"padding-left: 1em; padding-right: 1em; text-align: center; vertical-align: top\">1</td>\n",
       "        <td style=\"padding-left: 1em; padding-right: 1em; text-align: center; vertical-align: top\">0.62962962963</td>\n",
       "    </tr>\n",
       "</table>\n",
       "[3 rows x 2 columns]<br/>\n",
       "</div>"
      ],
      "text/plain": [
       "Columns:\n",
       "\tPclass\tint\n",
       "\tcount\tfloat\n",
       "\n",
       "Rows: 3\n",
       "\n",
       "Data:\n",
       "+--------+----------------+\n",
       "| Pclass |     count      |\n",
       "+--------+----------------+\n",
       "|   2    | 0.472826086957 |\n",
       "|   3    | 0.242362525458 |\n",
       "|   1    | 0.62962962963  |\n",
       "+--------+----------------+\n",
       "[3 rows x 2 columns]"
      ]
     },
     "execution_count": 870,
     "metadata": {},
     "output_type": "execute_result"
    }
   ],
   "source": [
    "(train_data.groupby(key_columns='Pclass', operations={'count': gl.aggregate.AVG('Survived')}))"
   ]
  },
  {
   "cell_type": "markdown",
   "metadata": {},
   "source": [
    "Shows most people in Pclass 1 survived"
   ]
  },
  {
   "cell_type": "code",
   "execution_count": 871,
   "metadata": {
    "collapsed": false
   },
   "outputs": [
    {
     "data": {
      "text/html": [
       "<div style=\"max-height:1000px;max-width:1500px;overflow:auto;\"><table frame=\"box\" rules=\"cols\">\n",
       "    <tr>\n",
       "        <th style=\"padding-left: 1em; padding-right: 1em; text-align: center\">Sex</th>\n",
       "        <th style=\"padding-left: 1em; padding-right: 1em; text-align: center\">count</th>\n",
       "    </tr>\n",
       "    <tr>\n",
       "        <td style=\"padding-left: 1em; padding-right: 1em; text-align: center; vertical-align: top\">male</td>\n",
       "        <td style=\"padding-left: 1em; padding-right: 1em; text-align: center; vertical-align: top\">0.188908145581</td>\n",
       "    </tr>\n",
       "    <tr>\n",
       "        <td style=\"padding-left: 1em; padding-right: 1em; text-align: center; vertical-align: top\">female</td>\n",
       "        <td style=\"padding-left: 1em; padding-right: 1em; text-align: center; vertical-align: top\">0.742038216561</td>\n",
       "    </tr>\n",
       "</table>\n",
       "[2 rows x 2 columns]<br/>\n",
       "</div>"
      ],
      "text/plain": [
       "Columns:\n",
       "\tSex\tstr\n",
       "\tcount\tfloat\n",
       "\n",
       "Rows: 2\n",
       "\n",
       "Data:\n",
       "+--------+----------------+\n",
       "|  Sex   |     count      |\n",
       "+--------+----------------+\n",
       "|  male  | 0.188908145581 |\n",
       "| female | 0.742038216561 |\n",
       "+--------+----------------+\n",
       "[2 rows x 2 columns]"
      ]
     },
     "execution_count": 871,
     "metadata": {},
     "output_type": "execute_result"
    }
   ],
   "source": [
    "(train_data.groupby(key_columns='Sex', operations={'count': gl.aggregate.AVG('Survived')}))"
   ]
  },
  {
   "cell_type": "markdown",
   "metadata": {},
   "source": [
    "Shows more female survived "
   ]
  },
  {
   "cell_type": "code",
   "execution_count": 872,
   "metadata": {
    "collapsed": false
   },
   "outputs": [
    {
     "data": {
      "text/html": [
       "<div style=\"max-height:1000px;max-width:1500px;overflow:auto;\"><table frame=\"box\" rules=\"cols\">\n",
       "    <tr>\n",
       "        <th style=\"padding-left: 1em; padding-right: 1em; text-align: center\">family_size</th>\n",
       "        <th style=\"padding-left: 1em; padding-right: 1em; text-align: center\">count</th>\n",
       "    </tr>\n",
       "    <tr>\n",
       "        <td style=\"padding-left: 1em; padding-right: 1em; text-align: center; vertical-align: top\">2</td>\n",
       "        <td style=\"padding-left: 1em; padding-right: 1em; text-align: center; vertical-align: top\">0.552795031056</td>\n",
       "    </tr>\n",
       "    <tr>\n",
       "        <td style=\"padding-left: 1em; padding-right: 1em; text-align: center; vertical-align: top\">8</td>\n",
       "        <td style=\"padding-left: 1em; padding-right: 1em; text-align: center; vertical-align: top\">0.0</td>\n",
       "    </tr>\n",
       "    <tr>\n",
       "        <td style=\"padding-left: 1em; padding-right: 1em; text-align: center; vertical-align: top\">5</td>\n",
       "        <td style=\"padding-left: 1em; padding-right: 1em; text-align: center; vertical-align: top\">0.2</td>\n",
       "    </tr>\n",
       "    <tr>\n",
       "        <td style=\"padding-left: 1em; padding-right: 1em; text-align: center; vertical-align: top\">4</td>\n",
       "        <td style=\"padding-left: 1em; padding-right: 1em; text-align: center; vertical-align: top\">0.724137931034</td>\n",
       "    </tr>\n",
       "    <tr>\n",
       "        <td style=\"padding-left: 1em; padding-right: 1em; text-align: center; vertical-align: top\">3</td>\n",
       "        <td style=\"padding-left: 1em; padding-right: 1em; text-align: center; vertical-align: top\">0.578431372549</td>\n",
       "    </tr>\n",
       "    <tr>\n",
       "        <td style=\"padding-left: 1em; padding-right: 1em; text-align: center; vertical-align: top\">1</td>\n",
       "        <td style=\"padding-left: 1em; padding-right: 1em; text-align: center; vertical-align: top\">0.303538175047</td>\n",
       "    </tr>\n",
       "    <tr>\n",
       "        <td style=\"padding-left: 1em; padding-right: 1em; text-align: center; vertical-align: top\">7</td>\n",
       "        <td style=\"padding-left: 1em; padding-right: 1em; text-align: center; vertical-align: top\">0.333333333333</td>\n",
       "    </tr>\n",
       "    <tr>\n",
       "        <td style=\"padding-left: 1em; padding-right: 1em; text-align: center; vertical-align: top\">6</td>\n",
       "        <td style=\"padding-left: 1em; padding-right: 1em; text-align: center; vertical-align: top\">0.136363636364</td>\n",
       "    </tr>\n",
       "    <tr>\n",
       "        <td style=\"padding-left: 1em; padding-right: 1em; text-align: center; vertical-align: top\">11</td>\n",
       "        <td style=\"padding-left: 1em; padding-right: 1em; text-align: center; vertical-align: top\">0.0</td>\n",
       "    </tr>\n",
       "</table>\n",
       "[9 rows x 2 columns]<br/>\n",
       "</div>"
      ],
      "text/plain": [
       "Columns:\n",
       "\tfamily_size\tint\n",
       "\tcount\tfloat\n",
       "\n",
       "Rows: 9\n",
       "\n",
       "Data:\n",
       "+-------------+----------------+\n",
       "| family_size |     count      |\n",
       "+-------------+----------------+\n",
       "|      2      | 0.552795031056 |\n",
       "|      8      |      0.0       |\n",
       "|      5      |      0.2       |\n",
       "|      4      | 0.724137931034 |\n",
       "|      3      | 0.578431372549 |\n",
       "|      1      | 0.303538175047 |\n",
       "|      7      | 0.333333333333 |\n",
       "|      6      | 0.136363636364 |\n",
       "|      11     |      0.0       |\n",
       "+-------------+----------------+\n",
       "[9 rows x 2 columns]"
      ]
     },
     "execution_count": 872,
     "metadata": {},
     "output_type": "execute_result"
    }
   ],
   "source": [
    "for data in full_data:\n",
    "    data['family_size'] = data['SibSp'] + data['Parch'] + 1\n",
    "(train_data.groupby(key_columns='family_size', operations={'count': gl.aggregate.AVG('Survived')}))"
   ]
  },
  {
   "cell_type": "code",
   "execution_count": 873,
   "metadata": {
    "collapsed": false
   },
   "outputs": [
    {
     "data": {
      "text/html": [
       "<div style=\"max-height:1000px;max-width:1500px;overflow:auto;\"><table frame=\"box\" rules=\"cols\">\n",
       "    <tr>\n",
       "        <th style=\"padding-left: 1em; padding-right: 1em; text-align: center\">Alone</th>\n",
       "        <th style=\"padding-left: 1em; padding-right: 1em; text-align: center\">count</th>\n",
       "    </tr>\n",
       "    <tr>\n",
       "        <td style=\"padding-left: 1em; padding-right: 1em; text-align: center; vertical-align: top\">0</td>\n",
       "        <td style=\"padding-left: 1em; padding-right: 1em; text-align: center; vertical-align: top\">0.505649717514</td>\n",
       "    </tr>\n",
       "    <tr>\n",
       "        <td style=\"padding-left: 1em; padding-right: 1em; text-align: center; vertical-align: top\">1</td>\n",
       "        <td style=\"padding-left: 1em; padding-right: 1em; text-align: center; vertical-align: top\">0.303538175047</td>\n",
       "    </tr>\n",
       "</table>\n",
       "[2 rows x 2 columns]<br/>\n",
       "</div>"
      ],
      "text/plain": [
       "Columns:\n",
       "\tAlone\tint\n",
       "\tcount\tfloat\n",
       "\n",
       "Rows: 2\n",
       "\n",
       "Data:\n",
       "+-------+----------------+\n",
       "| Alone |     count      |\n",
       "+-------+----------------+\n",
       "|   0   | 0.505649717514 |\n",
       "|   1   | 0.303538175047 |\n",
       "+-------+----------------+\n",
       "[2 rows x 2 columns]"
      ]
     },
     "execution_count": 873,
     "metadata": {},
     "output_type": "execute_result"
    }
   ],
   "source": [
    "def is_Alone(d):\n",
    "    if d==1: \n",
    "        return 1\n",
    "    else:\n",
    "        return 0\n",
    "\n",
    "for data in full_data:\n",
    "    data['Alone'] =  data['family_size'].apply(is_Alone)\n",
    "(train_data.groupby(key_columns='Alone', operations={'count': gl.aggregate.AVG('Survived')}))"
   ]
  },
  {
   "cell_type": "code",
   "execution_count": 874,
   "metadata": {
    "collapsed": false
   },
   "outputs": [
    {
     "name": "stdout",
     "output_type": "stream",
     "text": [
      "+-----------+----------------+\n",
      "|   Title   |     count      |\n",
      "+-----------+----------------+\n",
      "|    Mrs.   |     0.792      |\n",
      "|   Mlle.   |      1.0       |\n",
      "|    Rev.   |      0.0       |\n",
      "|    Don.   |      0.0       |\n",
      "|    Col.   |      0.5       |\n",
      "|    Dr.    | 0.428571428571 |\n",
      "|  Master.  |     0.575      |\n",
      "|    Mme.   |      1.0       |\n",
      "|    Sir.   |      1.0       |\n",
      "|   Major.  |      0.5       |\n",
      "|   Miss.   | 0.697802197802 |\n",
      "| Jonkheer. |      0.0       |\n",
      "|   Lady.   |      1.0       |\n",
      "|    Ms.    |      1.0       |\n",
      "|    Mr.    | 0.15667311412  |\n",
      "| Countess. |      1.0       |\n",
      "|   Capt.   |      0.0       |\n",
      "+-----------+----------------+\n",
      "[17 rows x 2 columns]\n",
      "\n"
     ]
    }
   ],
   "source": [
    "def search_title(Name):\n",
    "    matchOBJ = re.search(\"[a-zA-z]+\\.\",Name)\n",
    "    return matchOBJ.group(0)\n",
    "\n",
    "for data in full_data:\n",
    "    data['Title'] =  data['Name'].apply(search_title)\n",
    "    \n",
    "(train_data.groupby(key_columns='Title', operations={'count': gl.aggregate.AVG('Survived')})).print_rows(num_rows=17, num_columns=2)"
   ]
  },
  {
   "cell_type": "code",
   "execution_count": 875,
   "metadata": {
    "collapsed": false
   },
   "outputs": [],
   "source": [
    "def change_name(val):\n",
    "    if (val == 'Mlle.') or (val =='Ms.'):\n",
    "        return 'Miss'\n",
    "    elif val == 'Mme.':\n",
    "        return 'Mrs'\n",
    "    elif val == 'Master.':\n",
    "        return 'Master'\n",
    "    elif val == 'Miss.':\n",
    "        return 'Miss'\n",
    "    elif val == 'Mrs.':\n",
    "        return 'Mrs'\n",
    "    elif val == 'Mr.':\n",
    "        return 'Mr'\n",
    "    else:\n",
    "        return 'Rare'\n",
    "    \n",
    "for data in full_data:\n",
    "    data['Title'] =  data['Title'].apply(change_name)\n"
   ]
  },
  {
   "cell_type": "code",
   "execution_count": 876,
   "metadata": {
    "collapsed": false
   },
   "outputs": [],
   "source": [
    "def Title(title):\n",
    "    if title == 'Mrs':\n",
    "        return 1\n",
    "    elif title =='Miss':\n",
    "        return 2\n",
    "    elif title =='Master':\n",
    "        return 3\n",
    "    elif title == 'Mr':\n",
    "        return 4\n",
    "    elif title =='Rare':\n",
    "        return 5\n",
    "    \n",
    "for data in full_data:\n",
    "    data['Title'] =  data['Title'].apply(Title)"
   ]
  },
  {
   "cell_type": "code",
   "execution_count": 877,
   "metadata": {
    "collapsed": false
   },
   "outputs": [],
   "source": [
    "def Sex_categorical(sex):\n",
    "    if sex == 'female':\n",
    "        return 1\n",
    "    elif sex == 'male':\n",
    "        return 2\n",
    "for data in full_data:\n",
    "    data['Sex'] =  data['Sex'].apply(Sex_categorical)"
   ]
  },
  {
   "cell_type": "code",
   "execution_count": 878,
   "metadata": {
    "collapsed": false
   },
   "outputs": [
    {
     "data": {
      "text/html": [
       "<div style=\"max-height:1000px;max-width:1500px;overflow:auto;\"><table frame=\"box\" rules=\"cols\">\n",
       "    <tr>\n",
       "        <th style=\"padding-left: 1em; padding-right: 1em; text-align: center\">Embarked</th>\n",
       "        <th style=\"padding-left: 1em; padding-right: 1em; text-align: center\">count</th>\n",
       "    </tr>\n",
       "    <tr>\n",
       "        <td style=\"padding-left: 1em; padding-right: 1em; text-align: center; vertical-align: top\"></td>\n",
       "        <td style=\"padding-left: 1em; padding-right: 1em; text-align: center; vertical-align: top\">1.0</td>\n",
       "    </tr>\n",
       "    <tr>\n",
       "        <td style=\"padding-left: 1em; padding-right: 1em; text-align: center; vertical-align: top\">S</td>\n",
       "        <td style=\"padding-left: 1em; padding-right: 1em; text-align: center; vertical-align: top\">0.336956521739</td>\n",
       "    </tr>\n",
       "    <tr>\n",
       "        <td style=\"padding-left: 1em; padding-right: 1em; text-align: center; vertical-align: top\">C</td>\n",
       "        <td style=\"padding-left: 1em; padding-right: 1em; text-align: center; vertical-align: top\">0.553571428571</td>\n",
       "    </tr>\n",
       "    <tr>\n",
       "        <td style=\"padding-left: 1em; padding-right: 1em; text-align: center; vertical-align: top\">Q</td>\n",
       "        <td style=\"padding-left: 1em; padding-right: 1em; text-align: center; vertical-align: top\">0.38961038961</td>\n",
       "    </tr>\n",
       "</table>\n",
       "[4 rows x 2 columns]<br/>\n",
       "</div>"
      ],
      "text/plain": [
       "Columns:\n",
       "\tEmbarked\tstr\n",
       "\tcount\tfloat\n",
       "\n",
       "Rows: 4\n",
       "\n",
       "Data:\n",
       "+----------+----------------+\n",
       "| Embarked |     count      |\n",
       "+----------+----------------+\n",
       "|          |      1.0       |\n",
       "|    S     | 0.336956521739 |\n",
       "|    C     | 0.553571428571 |\n",
       "|    Q     | 0.38961038961  |\n",
       "+----------+----------------+\n",
       "[4 rows x 2 columns]"
      ]
     },
     "execution_count": 878,
     "metadata": {},
     "output_type": "execute_result"
    }
   ],
   "source": [
    "train_data.groupby(key_columns='Embarked', operations={'count': gl.aggregate.AVG('Survived')})"
   ]
  },
  {
   "cell_type": "code",
   "execution_count": 879,
   "metadata": {
    "collapsed": false
   },
   "outputs": [],
   "source": [
    "def Embarked_categorical(Embarked):\n",
    "    if Embarked == 'C':\n",
    "        return 1\n",
    "    elif Embarked == 'Q':\n",
    "        return 2\n",
    "    elif Embarked == 'S':\n",
    "        return 3\n",
    "for data in full_data:\n",
    "    data['Embarked'] =  data['Embarked'].apply(Embarked_categorical)\n",
    "\n",
    "train_data = train_data.fillna('Embarked',3)"
   ]
  },
  {
   "cell_type": "code",
   "execution_count": 880,
   "metadata": {
    "collapsed": false
   },
   "outputs": [],
   "source": [
    "binner = gl.feature_engineering.create(train_data, gl.toolkits.feature_engineering.FeatureBinner(features = ['Fare'], strategy = 'quantile',num_bins=5))\n",
    "train_data = binner.transform(train_data)\n",
    "test_data = binner.transform(test_data)\n",
    "full_data = (train_data,test_data)"
   ]
  },
  {
   "cell_type": "code",
   "execution_count": 881,
   "metadata": {
    "collapsed": false
   },
   "outputs": [],
   "source": [
    "train_data.groupby(key_columns='Fare', operations={'count': gl.aggregate.AVG('Survived')})\n",
    "def Fare_categorical(Fare):\n",
    "    if Fare == 'Fare_4':\n",
    "        return 1\n",
    "    elif Fare == 'Fare_3':\n",
    "        return 2\n",
    "    elif Fare == 'Fare_1':\n",
    "        return 3\n",
    "    elif Fare == 'Fare_2':\n",
    "        return 4\n",
    "    elif Fare =='Fare_0':\n",
    "        return 5\n",
    "\n",
    "for data in full_data:\n",
    "    data['Fare'] =  data['Fare'].apply(Fare_categorical)\n",
    "    \n",
    "test_data = test_data.fillna('Fare',5)"
   ]
  },
  {
   "cell_type": "code",
   "execution_count": 882,
   "metadata": {
    "collapsed": false
   },
   "outputs": [],
   "source": [
    "def check_None(data, average,i):   \n",
    "    if (data['Age'] == None) & (data['Pclass'] == (i+1)):\n",
    "        return average\n",
    "    else:\n",
    "        return data['Age']\n",
    "        \n",
    "avg_val = np.zeros(3,)\n",
    "\n",
    "train = gl.SFrame()\n",
    "for i in range(3):\n",
    "    avg_val[i] = np.median(train_data[train_data['Pclass']== i+1]['Age'])    \n",
    "\n",
    "for i in range(3):\n",
    "    value = train_data[train_data['Pclass']== i+1]\n",
    "    value['Age'] = value.apply(lambda x: check_None(x,avg_val[i],i))\n",
    "    train = train.append(value)\n",
    "    \n",
    "avg_val = np.zeros(3,)\n",
    "\n",
    "test = gl.SFrame()\n",
    "for i in range(3):\n",
    "    avg_val[i] = np.median(test_data[test_data['Pclass']== i+1]['Age'])    \n",
    "\n",
    "for i in range(3):\n",
    "    value = test_data[test_data['Pclass']== i+1]\n",
    "    value['Age'] = value.apply(lambda x: check_None(x,avg_val[i],i))\n",
    "    test = test.append(value)\n",
    "\n",
    "full_data = (train,test)\n",
    "def Age(Age):\n",
    "    if Age <= 16:\n",
    "        return 1\n",
    "    elif (Age > 16) & (Age <=32):\n",
    "        return 2\n",
    "    elif (Age > 32) & (Age <=48):\n",
    "        return 3\n",
    "    elif (Age > 48) & (Age <=64):\n",
    "        return 4\n",
    "    else:\n",
    "        return 5\n",
    "\n",
    "for data in full_data:\n",
    "    data['Age'] =  data['Age'].apply(Age)"
   ]
  },
  {
   "cell_type": "code",
   "execution_count": 883,
   "metadata": {
    "collapsed": false
   },
   "outputs": [],
   "source": [
    "train = train.sort('PassengerId')\n",
    "test = test.sort('PassengerId')\n",
    "full_data = (train,test)"
   ]
  },
  {
   "cell_type": "code",
   "execution_count": 884,
   "metadata": {
    "collapsed": true
   },
   "outputs": [],
   "source": [
    "for data in full_data:\n",
    "    data.remove_column('Ticket')\n",
    "    data.remove_column('PassengerId')\n",
    "    data.remove_column('Name')\n",
    "    data.remove_column('Cabin')\n",
    "    data.remove_column('SibSp')\n",
    "    data.remove_column('Parch')"
   ]
  },
  {
   "cell_type": "code",
   "execution_count": 959,
   "metadata": {
    "collapsed": false
   },
   "outputs": [
    {
     "data": {
      "text/plain": [
       "<matplotlib.axes._subplots.AxesSubplot at 0x1169ab250>"
      ]
     },
     "execution_count": 959,
     "metadata": {},
     "output_type": "execute_result"
    },
    {
     "data": {
      "image/png": "[encoded data removed]",
      "text/plain": [
       "<matplotlib.figure.Figure at 0x11528d6d0>"
      ]
     },
     "metadata": {},
     "output_type": "display_data"
    }
   ],
   "source": [
    "%matplotlib inline\n",
    "import matplotlib.pyplot as plt\n",
    "import seaborn as sns\n",
    "\n",
    "from sklearn.model_selection import StratifiedShuffleSplit\n",
    "from sklearn.metrics import accuracy_score, log_loss\n",
    "from sklearn.neighbors import KNeighborsClassifier\n",
    "from sklearn.svm import SVC\n",
    "from sklearn.tree import DecisionTreeClassifier\n",
    "from sklearn.ensemble import RandomForestClassifier, AdaBoostClassifier, GradientBoostingClassifier\n",
    "from sklearn.naive_bayes import GaussianNB\n",
    "from sklearn.discriminant_analysis import LinearDiscriminantAnalysis, QuadraticDiscriminantAnalysis\n",
    "from sklearn.linear_model import LogisticRegression\n",
    "\n",
    "classifiers = [\n",
    "    KNeighborsClassifier(3),\n",
    "    SVC(probability=True),\n",
    "    DecisionTreeClassifier(),\n",
    "    RandomForestClassifier(),\n",
    "    AdaBoostClassifier(),\n",
    "    GradientBoostingClassifier(),\n",
    "    GaussianNB(),\n",
    "    LinearDiscriminantAnalysis(),\n",
    "    QuadraticDiscriminantAnalysis(),\n",
    "    LogisticRegression()]\n",
    "\n",
    "\n",
    "sss = StratifiedShuffleSplit(n_splits=10, test_size=0.1, random_state=0)\n",
    "\n",
    "X = (train.to_numpy())[:,1:]\n",
    "y = (train.to_numpy())[:,0]\n",
    "\n",
    "acc_dict = {}\n",
    "\n",
    "for train_index, test_index in sss.split(X, y):\n",
    "    X_train, X_test = X[train_index], X[test_index]\n",
    "    y_train, y_test = y[train_index], y[test_index]\n",
    "    \n",
    "    for clf in classifiers:\n",
    "        name = clf.__class__.__name__\n",
    "        clf.fit(X_train, y_train)\n",
    "        train_predictions = clf.predict(X_test)\n",
    "        acc = accuracy_score(y_test, train_predictions)\n",
    "        if name in acc_dict:\n",
    "            acc_dict[name] += acc\n",
    "        else:\n",
    "            acc_dict[name] = acc\n",
    "\n",
    "\n",
    "log = gl.SFrame({'Classifier':[], 'Accuracy':[]})\n",
    "log['Classifier']= log['Classifier'].astype(str)\n",
    "log['Accuracy']= log['Accuracy'].astype(float)\n",
    "for clf in acc_dict:\n",
    "    acc_dict[clf] = acc_dict[clf] / 10.0\n",
    "    log_entry = gl.SFrame({'Classifier':[clf], 'Accuracy':[acc_dict[clf]]})\n",
    "    log = log.append(log_entry)\n",
    "\n",
    "plt.xlabel('Accuracy')\n",
    "plt.title('Classifier Accuracy')\n",
    "sns.set_color_codes(\"muted\")\n",
    "sns.barplot(log['Accuracy'].to_numpy(), log['Classifier'].to_numpy(), color=\"b\")"
   ]
  },
  {
   "cell_type": "code",
   "execution_count": 975,
   "metadata": {
    "collapsed": false
   },
   "outputs": [
    {
     "data": {
      "text/html": [
       "<div style=\"max-height:1000px;max-width:1500px;overflow:auto;\"><table frame=\"box\" rules=\"cols\">\n",
       "    <tr>\n",
       "        <th style=\"padding-left: 1em; padding-right: 1em; text-align: center\">Accuracy</th>\n",
       "        <th style=\"padding-left: 1em; padding-right: 1em; text-align: center\">Classifier</th>\n",
       "    </tr>\n",
       "    <tr>\n",
       "        <td style=\"padding-left: 1em; padding-right: 1em; text-align: center; vertical-align: top\">0.78</td>\n",
       "        <td style=\"padding-left: 1em; padding-right: 1em; text-align: center; vertical-align: top\">GaussianNB</td>\n",
       "    </tr>\n",
       "    <tr>\n",
       "        <td style=\"padding-left: 1em; padding-right: 1em; text-align: center; vertical-align: top\">0.795555555556</td>\n",
       "        <td style=\"padding-left: 1em; padding-right: 1em; text-align: center; vertical-align: top\">RandomForestClassifier</td>\n",
       "    </tr>\n",
       "    <tr>\n",
       "        <td style=\"padding-left: 1em; padding-right: 1em; text-align: center; vertical-align: top\">0.806666666667</td>\n",
       "        <td style=\"padding-left: 1em; padding-right: 1em; text-align: center; vertical-align: top\">LinearDiscriminantAnalysi<br>s ...</td>\n",
       "    </tr>\n",
       "    <tr>\n",
       "        <td style=\"padding-left: 1em; padding-right: 1em; text-align: center; vertical-align: top\">0.778888888889</td>\n",
       "        <td style=\"padding-left: 1em; padding-right: 1em; text-align: center; vertical-align: top\">KNeighborsClassifier</td>\n",
       "    </tr>\n",
       "    <tr>\n",
       "        <td style=\"padding-left: 1em; padding-right: 1em; text-align: center; vertical-align: top\">0.821111111111</td>\n",
       "        <td style=\"padding-left: 1em; padding-right: 1em; text-align: center; vertical-align: top\">AdaBoostClassifier</td>\n",
       "    </tr>\n",
       "    <tr>\n",
       "        <td style=\"padding-left: 1em; padding-right: 1em; text-align: center; vertical-align: top\">0.83</td>\n",
       "        <td style=\"padding-left: 1em; padding-right: 1em; text-align: center; vertical-align: top\">SVC</td>\n",
       "    </tr>\n",
       "    <tr>\n",
       "        <td style=\"padding-left: 1em; padding-right: 1em; text-align: center; vertical-align: top\">0.793333333333</td>\n",
       "        <td style=\"padding-left: 1em; padding-right: 1em; text-align: center; vertical-align: top\">DecisionTreeClassifier</td>\n",
       "    </tr>\n",
       "    <tr>\n",
       "        <td style=\"padding-left: 1em; padding-right: 1em; text-align: center; vertical-align: top\">0.814444444444</td>\n",
       "        <td style=\"padding-left: 1em; padding-right: 1em; text-align: center; vertical-align: top\">QuadraticDiscriminantAnal<br>ysis ...</td>\n",
       "    </tr>\n",
       "    <tr>\n",
       "        <td style=\"padding-left: 1em; padding-right: 1em; text-align: center; vertical-align: top\">0.811111111111</td>\n",
       "        <td style=\"padding-left: 1em; padding-right: 1em; text-align: center; vertical-align: top\">LogisticRegression</td>\n",
       "    </tr>\n",
       "    <tr>\n",
       "        <td style=\"padding-left: 1em; padding-right: 1em; text-align: center; vertical-align: top\">0.825555555556</td>\n",
       "        <td style=\"padding-left: 1em; padding-right: 1em; text-align: center; vertical-align: top\">GradientBoostingClassifie<br>r ...</td>\n",
       "    </tr>\n",
       "</table>\n",
       "[10 rows x 2 columns]<br/>\n",
       "</div>"
      ],
      "text/plain": [
       "Columns:\n",
       "\tAccuracy\tfloat\n",
       "\tClassifier\tstr\n",
       "\n",
       "Rows: 10\n",
       "\n",
       "Data:\n",
       "+----------------+-------------------------------+\n",
       "|    Accuracy    |           Classifier          |\n",
       "+----------------+-------------------------------+\n",
       "|      0.78      |           GaussianNB          |\n",
       "| 0.795555555556 |     RandomForestClassifier    |\n",
       "| 0.806666666667 |   LinearDiscriminantAnalysis  |\n",
       "| 0.778888888889 |      KNeighborsClassifier     |\n",
       "| 0.821111111111 |       AdaBoostClassifier      |\n",
       "|      0.83      |              SVC              |\n",
       "| 0.793333333333 |     DecisionTreeClassifier    |\n",
       "| 0.814444444444 | QuadraticDiscriminantAnalysis |\n",
       "| 0.811111111111 |       LogisticRegression      |\n",
       "| 0.825555555556 |   GradientBoostingClassifier  |\n",
       "+----------------+-------------------------------+\n",
       "[10 rows x 2 columns]"
      ]
     },
     "execution_count": 975,
     "metadata": {},
     "output_type": "execute_result"
    }
   ],
   "source": [
    "log"
   ]
  },
  {
   "cell_type": "code",
   "execution_count": 965,
   "metadata": {
    "collapsed": false
   },
   "outputs": [],
   "source": [
    "final_classifier = SVC()\n",
    "final_classifier = final_classifier.fit((train.to_numpy())[:,1:],(train.to_numpy())[:,0])\n",
    "prediction = final_classifier.predict(test.to_numpy())"
   ]
  },
  {
   "cell_type": "code",
   "execution_count": 972,
   "metadata": {
    "collapsed": false
   },
   "outputs": [],
   "source": [
    "data = gl.SFrame({'PassengerId':gl.SArray(test_data['PassengerId']),'Survived':gl.SArray(prediction)})"
   ]
  },
  {
   "cell_type": "code",
   "execution_count": 974,
   "metadata": {
    "collapsed": false
   },
   "outputs": [],
   "source": [
    "data.save('submission.csv')"
   ]
  }
 ],
 "metadata": {
  "kernelspec": {
   "display_name": "Python 2",
   "language": "python",
   "name": "python2"
  },
  "language_info": {
   "codemirror_mode": {
    "name": "ipython",
    "version": 2
   },
   "file_extension": ".py",
   "mimetype": "text/x-python",
   "name": "python",
   "nbconvert_exporter": "python",
   "pygments_lexer": "ipython2",
   "version": "2.7.13"
  }
 },
 "nbformat": 4,
 "nbformat_minor": 0
}
